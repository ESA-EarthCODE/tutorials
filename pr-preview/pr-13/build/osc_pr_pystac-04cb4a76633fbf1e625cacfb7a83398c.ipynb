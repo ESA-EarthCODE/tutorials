{
 "cells": [
  {
   "cell_type": "markdown",
   "id": "c4f71528",
   "metadata": {},
   "source": [
    "# Generating OSC information using pystac\n",
    "\n",
    "This notebook shows how to generate OSC Projects, Products and Workflows using pystac. EarthCODE provides a [GUI editor](http://workspace.earthcode.earthcode.eox.at/osc-editor) that offers this and more functionality, including a user interface. However, if you decide to manually create items, using a library like pystac can save some time. \n",
    "The code described here does not carry out all the required steps to pass the automated OSC validation. For example, you still have to generate all return links as described in the manual PR tutorial. You'll also have to manually open the PR in the end.\n",
    "\n",
    "> NOTE: Before you run the notebook you'll need a fork of the open-science-catalog-metadata repository. See the Manual PR Tutorial about how to do it.\n",
    "\n",
    "### Import libraries"
   ]
  },
  {
   "cell_type": "code",
   "execution_count": null,
   "id": "b0191237",
   "metadata": {},
   "outputs": [],
   "source": [
    "import pystac\n",
    "from datetime import datetime\n",
    "from pystac.extensions.projection import ProjectionExtension"
   ]
  },
  {
   "cell_type": "markdown",
   "id": "ad1eceac",
   "metadata": {},
   "source": [
    "### Get all entries from the Open Science Catalog"
   ]
  },
  {
   "cell_type": "code",
   "execution_count": null,
   "id": "918b2a64",
   "metadata": {},
   "outputs": [],
   "source": [
    "# read the catalog root\n",
    "catalog = pystac.Catalog.from_file('../../open-science-catalog-metadata/catalog.json')\n",
    "\n",
    "# access the list of the themes in open science catalog\n",
    "themes = catalog.get_child('themes')\n",
    "allowed_themes = [child.id for child in themes.get_children()]\n",
    "\n",
    "\n",
    "# access the list of available ESA missions\n",
    "missions = catalog.get_child('eo-missions')\n",
    "allowed_missions = [child.id for child in missions.get_children()]\n",
    "\n",
    "# access the list of avaiable variables\n",
    "variables = catalog.get_child('variables')\n",
    "allowed_variables = [child.id for child in variables.get_children()]\n",
    "\n",
    "# access the list of existing projects, products and workflows\n",
    "products = catalog.get_child('products')\n",
    "projects = catalog.get_child('projects')\n",
    "workflows = catalog.get_child('workflows')"
   ]
  },
  {
   "cell_type": "markdown",
   "id": "5430bed7",
   "metadata": {},
   "source": [
    "### Define helper functions | Add new variables, theme and eo missions "
   ]
  },
  {
   "cell_type": "code",
   "execution_count": null,
   "id": "fb6a0c55",
   "metadata": {},
   "outputs": [],
   "source": [
    "def add_product_variables(collection, variables_to_add):\n",
    "    '''Add variables to the collection custom fields and add links to the missions collection.'''\n",
    "    \n",
    "    for variable in variables_to_add:\n",
    "        \n",
    "        assert variable in allowed_variables\n",
    "\n",
    "        # add the correct link\n",
    "        collection.add_link(\n",
    "            pystac.Link(rel=\"related\", \n",
    "                        target=variables.get_child(variable).get_links('self')[0].href, \n",
    "                        media_type=\"application/json\",\n",
    "                        title=f\"Variable: {variables.get_child(variable).title}\")\n",
    "        )\n",
    "\n",
    "    # Add themes to the custom fields\n",
    "    collection.extra_fields.update({\n",
    "        \"osc:variables\": variables_to_add\n",
    "    })\n",
    "\n",
    "def add_themes(collection, themes_to_add):\n",
    "    '''Add themes to the collection custom fields and add links to the themes collection.'''\n",
    "    \n",
    "    themes_list = []\n",
    "    for theme in themes_to_add:\n",
    "        \n",
    "        assert theme in allowed_themes\n",
    "\n",
    "        # add the correct link\n",
    "        collection.add_link(\n",
    "            pystac.Link(rel=\"related\", \n",
    "                        target=themes.get_child(theme).get_links('self')[0].href, \n",
    "                        media_type=\"application/json\",\n",
    "                        title=f\"Theme: {themes.get_child(theme).title}\")\n",
    "        )\n",
    "        \n",
    "        themes_list.append(\n",
    "            {\n",
    "                \"scheme\": \"https://github.com/stac-extensions/osc#theme\",\n",
    "                \"concepts\": [{\"id\": theme}]\n",
    "            }\n",
    "        )\n",
    "\n",
    "    # Add themes to the custom fields\n",
    "    collection.extra_fields.update({\n",
    "        \"themes\": themes_list\n",
    "    }\n",
    "    )\n",
    "\n",
    "\n",
    "def add_links(collection, relations, targets, titles):\n",
    "\n",
    "    '''Add links from the collection to outside websites.'''\n",
    "    links = []\n",
    "    \n",
    "    for rel, target, title in zip(relations, targets, titles):\n",
    "        links.append(pystac.Link(rel=rel, target=target, title=title)),\n",
    "    \n",
    "    collection.add_links(links)\n",
    "\n",
    "\n",
    "def create_contract(name, roles, emails):\n",
    "    '''Create a contact template'''\n",
    "    contact =  {\n",
    "        \"name\": name,\n",
    "        \"roles\": [r for r in roles]\n",
    "    }\n",
    "    if emails:\n",
    "        contact['emails'] = [{\"value\":email} for email in emails]\n",
    "    return contact\n",
    "\n",
    "def add_product_missions(collection, missions_to_add):\n",
    "    '''Add missions to the collection custom fields and add links to the missions collection.'''\n",
    "    \n",
    "    for mission in missions_to_add:\n",
    "        \n",
    "        assert mission in allowed_missions\n",
    "\n",
    "        # add the correct link\n",
    "        collection.add_link(\n",
    "            pystac.Link(rel=\"related\", \n",
    "                        target=missions.get_child(mission).get_links('self')[0].href, \n",
    "                        media_type=\"application/json\",\n",
    "                        title=f\"EO Mission: {missions.get_child(mission).title}\"\n",
    "            )\n",
    "        )\n",
    "\n",
    "    # Add themes to the custom fields\n",
    "    collection.extra_fields.update({\n",
    "         \"osc:missions\": missions_to_add\n",
    "    }\n",
    "    )\n"
   ]
  },
  {
   "cell_type": "markdown",
   "id": "ccb1fbac",
   "metadata": {},
   "source": [
    "### Define helper functions | Create new project collection "
   ]
  },
  {
   "cell_type": "code",
   "execution_count": null,
   "id": "55c5c1d8",
   "metadata": {},
   "outputs": [],
   "source": [
    "\n",
    "def create_project_collection(project_id, project_title, project_description, \n",
    "                      project_status, extent, project_license):\n",
    "\n",
    "    '''Create project collection template from the provided information.'''\n",
    "\n",
    "    # Create the collection\n",
    "    collection = pystac.Collection(\n",
    "        id=project_id,\n",
    "        description=project_description,\n",
    "        extent=extent,\n",
    "        license=project_license,\n",
    "        title=project_title,\n",
    "        extra_fields = {\n",
    "            \"osc:status\": project_status,\n",
    "            \"osc:type\": \"project\",\n",
    "            \"updated\": datetime.now().strftime(\"%Y-%m-%dT%H:%M:%SZ\")\n",
    "        },\n",
    "        stac_extensions=[\n",
    "            \"https://stac-extensions.github.io/osc/v1.0.0/schema.json\",\n",
    "            \"https://stac-extensions.github.io/themes/v1.0.0/schema.json\",\n",
    "            \"https://stac-extensions.github.io/contacts/v0.1.1/schema.json\"\n",
    "        ]\n",
    "    \n",
    "    )\n",
    "\n",
    "    # Add pre-determined links \n",
    "    collection.add_links([\n",
    "        pystac.Link(rel=\"root\", target=\"../../catalog.json\", media_type=\"application/json\", title=\"Open Science Catalog\"),\n",
    "        pystac.Link(rel=\"parent\", target=\"../catalog.json\", media_type=\"application/json\", title=\"Projects\"),\n",
    "        # pystac.Link(rel=\"self\", target=f\"https://esa-earthcode.github.io/open-science-catalog-metadata/projects/{project_id}/collection.json\", media_type=\"application/json\"),\n",
    "    ])\n",
    "\n",
    "    return collection\n",
    "\n"
   ]
  },
  {
   "cell_type": "markdown",
   "id": "47339180",
   "metadata": {},
   "source": [
    "### Define helper functions | Create new product collection "
   ]
  },
  {
   "cell_type": "code",
   "execution_count": null,
   "id": "74f7046e",
   "metadata": {},
   "outputs": [],
   "source": [
    "def create_product_collection(product_id, product_title, product_description, product_extent, product_license,\n",
    "                              product_keywords, product_status, product_region, product_project_id, product_project_title,\n",
    "                              product_parameters=None, product_doi=None):\n",
    "\n",
    "    collection = pystac.Collection(\n",
    "            id=product_id,\n",
    "            title=product_title,\n",
    "            description=product_description,\n",
    "            extent=product_extent,\n",
    "            license=product_license,\n",
    "            keywords=product_keywords,\n",
    "            stac_extensions=[\n",
    "                \"https://stac-extensions.github.io/osc/v1.0.0/schema.json\",\n",
    "                \"https://stac-extensions.github.io/themes/v1.0.0/schema.json\",\n",
    "                \"https://stac-extensions.github.io/cf/v0.2.0/schema.json\"\n",
    "            ],\n",
    "        )\n",
    "    \n",
    "    # Add pre-determined links \n",
    "    collection.add_links([\n",
    "        pystac.Link(rel=\"root\", target=\"../../catalog.json\", media_type=\"application/json\", title=\"Open Science Catalog\"),\n",
    "        pystac.Link(rel=\"parent\", target=\"../catalog.json\", media_type=\"application/json\", title=\"Products\"),\n",
    "        # pystac.Link(rel=\"self\", target=f\"https://esa-earthcode.github.io/open-science-catalog-metadata/products/{project_id}/collection.json\", media_type=\"application/json\"),\n",
    "        pystac.Link(rel=\"related\", target=f\"../../projects/{product_project_id}/collection.json\", media_type=\"application/json\", title=f\"Project: {product_project_title}\"),\n",
    "\n",
    "    ])\n",
    "\n",
    "    # Add extra properties\n",
    "    collection.extra_fields.update({\n",
    "        \"osc:project\": product_project_id,\n",
    "        \"osc:status\": product_status,\n",
    "        \"osc:region\": product_region,\n",
    "        \"osc:type\": \"product\",\n",
    "        \"created\": datetime.now().strftime(\"%Y-%m-%dT%H:%M:%SZ\"),\n",
    "        \"updated\": datetime.now().strftime(\"%Y-%m-%dT%H:%M:%SZ\"),\n",
    "    })\n",
    "\n",
    "    if product_doi is not None:\n",
    "        collection.extra_fields[\"sci:doi\"] = product_doi\n",
    "\n",
    "\n",
    "    if product_parameters:\n",
    "        collection.extra_fields[\"cf:parameter\"] = [{\"name\": p} for p in product_parameters]\n",
    "    \n",
    "    return collection"
   ]
  },
  {
   "cell_type": "markdown",
   "id": "2c21cee1",
   "metadata": {},
   "source": [
    "### Define helper functions | Create new workflow record "
   ]
  },
  {
   "cell_type": "code",
   "execution_count": null,
   "id": "25e60580",
   "metadata": {},
   "outputs": [],
   "source": [
    "def create_workflow_collection(workflow_id, workflow_title, \n",
    "                               workflow_description, workflow_license, workflow_extent,\n",
    "                               workflow_keywords, workflow_formats, workflow_project, workflow_project_title):\n",
    "\n",
    "    '''Create a workflow collection template from the provided information.'''\n",
    "\n",
    "    # Create the collection\n",
    "\n",
    "    collection = {\n",
    "        'id': workflow_id,\n",
    "        'type': 'Feature',\n",
    "        'geometry': None,\n",
    "        \"conformsTo\": [\"http://www.opengis.net/spec/ogcapi-records-1/1.0/req/record-core\"],\n",
    "        \"properties\": {\n",
    "            \"title\": workflow_title,\n",
    "            \"description\": workflow_description,\n",
    "            \"osc:type\": \"workflow\",\n",
    "            \"osc:project\": workflow_project,\n",
    "            \"osc:status\": \"completed\",\n",
    "            \"formats\": [{\"name\": f} for f in workflow_formats],\n",
    "            \"updated\": datetime.now().strftime(\"%Y-%m-%dT%H:%M:%SZ\"),\n",
    "            \"created\": datetime.now().strftime(\"%Y-%m-%dT%H:%M:%SZ\"),\n",
    "            \"keywords\": workflow_keywords,\n",
    "            \"license\": workflow_license,\n",
    "            \"version\": \"1\"\n",
    "        },\n",
    "        \"linkTemplates\": [],\n",
    "        \"links\": [\n",
    "            \n",
    "            {\n",
    "                \"rel\": \"root\",\n",
    "                \"href\": \"../../catalog.json\",\n",
    "                \"type\": \"application/json\",\n",
    "                \"title\": \"Open Science Catalog\"\n",
    "            },            \n",
    "            {\n",
    "                \"rel\": \"parent\",\n",
    "                \"href\": \"../catalog.json\",\n",
    "                \"type\": \"application/json\",\n",
    "                \"title\": \"Workflows\"\n",
    "            },            \n",
    "  \n",
    "            {\n",
    "                \"rel\": \"related\",\n",
    "                \"href\": f\"../../projects/{workflow_project}/collection.json\",\n",
    "                \"type\": \"application/json\",\n",
    "                \"title\": f\"Project: {workflow_project_title}\"\n",
    "            },\n",
    "            \n",
    "        ]\n",
    "\n",
    "    }\n",
    "    \n",
    "    return collection\n"
   ]
  },
  {
   "cell_type": "markdown",
   "id": "0805ca97",
   "metadata": {},
   "source": [
    "## Create a metadata collection for new project"
   ]
  },
  {
   "cell_type": "code",
   "execution_count": null,
   "id": "f89f7674",
   "metadata": {},
   "outputs": [],
   "source": [
    "# Define id, title, description, project status, license\n",
    "project_id = \"worldcereal2\"\n",
    "project_title = \"WorldCereal2\"\n",
    "project_description = \"WorldCereal is an ESA initiative that provides global cropland and crop type maps at 10-meter resolution, offering seasonally updated data on temporary crops, croptypes (maize, winter cereals and spring cereals), and irrigation.\"\n",
    "project_status = \"completed\"\n",
    "project_license = 'proprietary'\n",
    "\n",
    "# Define spatial and temporal extent\n",
    "spatial_extent = pystac.SpatialExtent([[-180.0, -90.0, 180.0, 90.0]])\n",
    "temporal_extent = pystac.TemporalExtent([[datetime(2021, 1, 1), datetime(2021, 12, 31, 23, 59, 59)]])\n",
    "extent = pystac.Extent(spatial=spatial_extent, temporal=temporal_extent)\n",
    "\n",
    "# Define links and link titles\n",
    "project_link_targets = [\"https://esa-worldcereal.org/en\", \n",
    "                        \"https://eo4society.esa.int/projects/worldcereal-global-crop-monitoring-at-field-scale/\"]\n",
    "project_link_relations = [\"via\", \"via\"]\n",
    "project_link_titles = [\"Website\", \"EO4Society Link\"]\n",
    "\n",
    "# Define project themes\n",
    "project_themes = [\"land\"]\n",
    "\n",
    "# contacts\n",
    "project_contracts_info = [\n",
    "    (\"Zoltan Szantoi\", [\"technical_officer\"], [\"Zoltan.Szantoi@esa.int\"]),\n",
    "    (\"VITO Remote Sensing\", [\"consortium_member\"], None)\n",
    "]"
   ]
  },
  {
   "cell_type": "code",
   "execution_count": null,
   "id": "990bdf9d",
   "metadata": {},
   "outputs": [],
   "source": [
    "collection = create_project_collection(project_id, project_title, project_description, \n",
    "                      project_status, extent, project_license)"
   ]
  },
  {
   "cell_type": "code",
   "execution_count": null,
   "id": "29d52b22",
   "metadata": {},
   "outputs": [],
   "source": [
    "# add links\n",
    "add_links(collection, project_link_relations, project_link_targets, project_link_titles)"
   ]
  },
  {
   "cell_type": "code",
   "execution_count": null,
   "id": "2d20bfd9",
   "metadata": {},
   "outputs": [],
   "source": [
    "## add themes\n",
    "add_themes(collection, project_themes)"
   ]
  },
  {
   "cell_type": "code",
   "execution_count": null,
   "id": "b02cf9a0",
   "metadata": {},
   "outputs": [],
   "source": [
    "\n",
    "# Add contacts\n",
    "collection.extra_fields.update({\n",
    "\n",
    "    \"contacts\": [create_contract(*info) for info in project_contracts_info]\n",
    "    \n",
    "})"
   ]
  },
  {
   "cell_type": "code",
   "execution_count": null,
   "id": "7d45c051",
   "metadata": {},
   "outputs": [],
   "source": [
    "collection.validate()"
   ]
  },
  {
   "cell_type": "code",
   "execution_count": null,
   "id": "e46fbe2e",
   "metadata": {},
   "outputs": [],
   "source": [
    "collection"
   ]
  },
  {
   "cell_type": "code",
   "execution_count": null,
   "id": "3aa1ecae",
   "metadata": {},
   "outputs": [],
   "source": [
    "# save this file and copy it to the catalog/projects/{project}/collection.json\n",
    "collection.save_object(dest_href='project_collection.json')"
   ]
  },
  {
   "cell_type": "code",
   "execution_count": null,
   "id": "384e7a40",
   "metadata": {},
   "outputs": [],
   "source": [
    "# optionally run this code to transfer the generated file to the OSC folder, ready to be commited.\n",
    "!mkdir -p ../open-science-catalog-metadata-staging/projects/worldcereal2/\n",
    "!cp project_collection.json ../open-science-catalog-metadata-staging/projects/worldcereal2/collection.json"
   ]
  },
  {
   "cell_type": "markdown",
   "id": "05c72f72",
   "metadata": {},
   "source": [
    "## Create a metadata collection for new product"
   ]
  },
  {
   "cell_type": "code",
   "execution_count": null,
   "id": "72642f9f",
   "metadata": {},
   "outputs": [],
   "source": [
    "product_id = \"worldcereal-crop-extent-belgium2\"\n",
    "product_title = \"WorldCereal Crop Extent - Belgium2\"\n",
    "product_description = \"WorldCereal is an ESA initiative that provides global cropland and crop type maps at 10-meter resolution, offering seasonally updated data on temporary crops, croptypes (maize, winter cereals and spring cereals), and irrigation. This dataset provides the outputs for Belgium.\"\n",
    "product_keywords = [\n",
    "    \"Crops\",\n",
    "    \"Cereal\"\n",
    "]\n",
    "product_status = \"ongoing\"\n",
    "product_license = \"proprietary\"\n",
    "\n",
    "# Define spatial and temporal extent\n",
    "product_spatial_extent = pystac.SpatialExtent([[2.5135, 49.529, 6.156, 51.475]])\n",
    "product_temporal_extent = pystac.TemporalExtent([[datetime(2021, 1, 1), datetime(2021, 12, 31, 23, 59, 59)]])\n",
    "product_extent = pystac.Extent(spatial=product_spatial_extent, temporal=product_temporal_extent)\n",
    "product_region = \"Belgium\"\n",
    "product_themes = [\"land\"]\n",
    "product_missions = [ \"sentinel-2\"]\n",
    "product_variables = [  \"crop-yield-forecast\" ]\n",
    "product_parameters = [  \"crop-yield-forecast\" ]\n",
    "\n",
    "product_project_id = \"worldcereal2\"\n",
    "product_project_title = \"WorldCereal2\"\n",
    "\n",
    "product_doi = \"https://doi.org/10.57780/s3d-83ad619\"\n",
    "\n",
    "\n",
    "# define links to add\n",
    "\n",
    "product_target_relations = ['child', 'via', 'via']\n",
    "product_target_links = ['https://eoresults.esa.int/stac/collections/sentinel3-ampli-ice-sheet-elevation',\n",
    "                        'https://eoresults.esa.int/browser/#/external/eoresults.esa.int/stac/collections/sentinel3-ampli-ice-sheet-elevation',\n",
    "                        'https://eoresults.esa.int/d/sentinel3-ampli-ice-sheet-elevation/2025/05/07/sentinel-3-ampli-user-handbook/S3_AMPLI_User_Handbook.pdf']\n",
    "product_target_titles = ['PRR link', 'Access', 'Documentation']\n"
   ]
  },
  {
   "cell_type": "code",
   "execution_count": null,
   "id": "3644abb4",
   "metadata": {},
   "outputs": [],
   "source": [
    "product_collection = create_product_collection(\n",
    "    product_id, product_title, product_description, product_extent, \n",
    "    product_license, product_keywords, product_status, product_region, \n",
    "    product_project_id, product_project_title, product_parameters, product_doi)"
   ]
  },
  {
   "cell_type": "code",
   "execution_count": null,
   "id": "4fa6fcdc",
   "metadata": {},
   "outputs": [],
   "source": [
    "# add themes\n",
    "add_themes(product_collection, product_themes)\n",
    "\n"
   ]
  },
  {
   "cell_type": "code",
   "execution_count": null,
   "id": "37155798",
   "metadata": {},
   "outputs": [],
   "source": [
    "add_product_missions(product_collection, product_missions)"
   ]
  },
  {
   "cell_type": "code",
   "execution_count": null,
   "id": "2cfaf55f",
   "metadata": {},
   "outputs": [],
   "source": [
    "add_product_variables(product_collection, product_variables)"
   ]
  },
  {
   "cell_type": "code",
   "execution_count": null,
   "id": "cebf804a",
   "metadata": {},
   "outputs": [],
   "source": [
    "# add links\n",
    "add_links(product_collection,\n",
    "          product_target_relations,\n",
    "          product_target_links,\n",
    "          product_target_titles\n",
    ")"
   ]
  },
  {
   "cell_type": "code",
   "execution_count": null,
   "id": "0227fb4b",
   "metadata": {},
   "outputs": [],
   "source": [
    "product_collection.validate()"
   ]
  },
  {
   "cell_type": "code",
   "execution_count": null,
   "id": "7e5300ae",
   "metadata": {},
   "outputs": [],
   "source": [
    "product_collection"
   ]
  },
  {
   "cell_type": "code",
   "execution_count": null,
   "id": "1a645384",
   "metadata": {},
   "outputs": [],
   "source": [
    "# save this file and copy it to the catalog/products/{product_id}/collection.json\n",
    "product_collection.save_object(dest_href='product_collection.json')"
   ]
  },
  {
   "cell_type": "code",
   "execution_count": null,
   "id": "931c340c",
   "metadata": {},
   "outputs": [],
   "source": [
    "# optionally run this code to transfer the generated file to the OSC folder, ready to be commited.\n",
    "!mkdir -p ../open-science-catalog-metadata-staging/products/worldcereal-crop-extent-belgium2/\n",
    "!cp product_collection.json ../open-science-catalog-metadata-staging/products/worldcereal-crop-extent-belgium2/collection.json"
   ]
  },
  {
   "cell_type": "markdown",
   "id": "b04b6ec5",
   "metadata": {},
   "source": [
    "## Create a metadata collection for new workflow"
   ]
  },
  {
   "cell_type": "code",
   "execution_count": null,
   "id": "1e9bce8c",
   "metadata": {},
   "outputs": [],
   "source": [
    "workflow_id = \"worldcereal-workflow2\"\n",
    "workflow_title=\"ESA worldcereal global crop extent detector2\"\n",
    "workflow_description=\"Detects crop land at 10m resolution, trained for global use. Based on Sentinel-1 and 2 data...\"\n",
    "workflow_license = \"proprietary\"\n",
    "workflow_keywords= [\"agriculture\", \"crops\"]\n",
    "workflow_formats = [\"GeoTIFF\"]\n",
    "workflow_project = \"worldcereal2\"\n",
    "workflow_project_title = \"WorldCereal2\"\n",
    "\n",
    "workflow_themes = ['land']\n",
    "\n",
    "# Define spatial and temporal extent\n",
    "spatial_extent = pystac.SpatialExtent([[-180.0, -90.0, 180.0, 90.0]])\n",
    "temporal_extent = pystac.TemporalExtent([[datetime(2022, 2, 1), datetime(2026, 1, 31, 23, 59, 59)]])\n",
    "workflow_extent = pystac.Extent(spatial=spatial_extent, temporal=temporal_extent)\n",
    "\n",
    "\n",
    "# add custom theme schemas\n",
    "\n",
    "workflow_contracts_info = [\n",
    "    (\"Marie-Helene Rio\", [\"technical_officer\"], [\"marie-helene.rio@esa.int\"]),\n",
    "    (\"CNR-INSTITUTE OF MARINE SCIENCES-ISMAR (IT)\", [\"consortium_member\"], None),\n",
    "    (\"+ATLANTIC – Association for an Atla (PT)\", [\"consortium_member\"], None),\n",
    "]"
   ]
  },
  {
   "cell_type": "code",
   "execution_count": null,
   "id": "32ae9134",
   "metadata": {},
   "outputs": [],
   "source": [
    "workflow_collection = create_workflow_collection(workflow_id, workflow_title, \n",
    "                               workflow_description, workflow_license, workflow_extent,\n",
    "                               workflow_keywords, workflow_formats, workflow_project, workflow_project_title)"
   ]
  },
  {
   "cell_type": "code",
   "execution_count": null,
   "id": "ce842c95",
   "metadata": {},
   "outputs": [],
   "source": [
    "# add contacts\n",
    "workflow_collection['properties'].update({\n",
    "\n",
    "    \"contacts\": [create_contract(*info) for info in workflow_contracts_info]\n",
    "    \n",
    "})\n"
   ]
  },
  {
   "cell_type": "code",
   "execution_count": null,
   "id": "e3a8a642",
   "metadata": {},
   "outputs": [],
   "source": [
    "workflow_collection['properties']['themes'] = [\n",
    "    {\n",
    "        \"scheme\": \"https://github.com/stac-extensions/osc#theme\",\n",
    "        \"concepts\": [{\"id\": t} for t in workflow_themes]\n",
    "    }\n",
    "]\n",
    "\n",
    "for t in workflow_themes:\n",
    "    workflow_collection['links'].append(\n",
    "            {\n",
    "                    \"rel\": 'related',\n",
    "                    \"href\": f\"../../{t}/land/catalog.json\",\n",
    "                    \"type\": \"application/json\",\n",
    "                    \"title\": f'Theme: {t.capitalize()}'\n",
    "                }\n",
    ")"
   ]
  },
  {
   "cell_type": "code",
   "execution_count": null,
   "id": "bd0b0451",
   "metadata": {},
   "outputs": [],
   "source": [
    "workflow_target_relations = ['openeo-process', 'git', 'service']\n",
    "workflow_target_links = ['https://raw.githubusercontent.com/WorldCereal/worldcereal-classification/refs/tags/worldcereal_crop_extent_v1.0.1/src/worldcereal/udp/worldcereal_crop_extent.json',\n",
    "                        'https://github.com/WorldCereal/worldcereal-classification.git',\n",
    "                        'https://openeofed.dataspace.copernicus.eu']\n",
    "workflow_target_titles = ['openEO Process Definition', 'Git source repository', 'CDSE openEO federation']\n",
    "\n",
    "for rel, link, title in zip(workflow_target_relations, workflow_target_links, workflow_target_titles):\n",
    "    workflow_collection['links'].append(\n",
    "        {\n",
    "                \"rel\": rel,\n",
    "                \"href\": link,\n",
    "                \"type\": \"application/json\",\n",
    "                \"title\": title\n",
    "            }\n",
    "    )"
   ]
  },
  {
   "cell_type": "code",
   "execution_count": null,
   "id": "e593c92d",
   "metadata": {},
   "outputs": [],
   "source": [
    "import json\n",
    "with open('record.json', 'w') as f:\n",
    "    json.dump(workflow_collection, f)"
   ]
  },
  {
   "cell_type": "code",
   "execution_count": null,
   "id": "c5378915",
   "metadata": {},
   "outputs": [],
   "source": [
    "# optionally run this code to transfer the generated file to the OSC folder, ready to be commited.\n",
    "!mkdir -p ../open-science-catalog-metadata-staging/workflows/worldcereal-workflow2/\n",
    "!cp record.json ../open-science-catalog-metadata-staging/workflows/worldcereal-workflow2/record.json"
   ]
  }
 ],
 "metadata": {
  "kernelspec": {
   "display_name": "pangeo",
   "language": "python",
   "name": "python3"
  },
  "language_info": {
   "codemirror_mode": {
    "name": "ipython",
    "version": 3
   },
   "file_extension": ".py",
   "mimetype": "text/x-python",
   "name": "python",
   "nbconvert_exporter": "python",
   "pygments_lexer": "ipython3",
   "version": "3.13.3"
  }
 },
 "nbformat": 4,
 "nbformat_minor": 5
}
