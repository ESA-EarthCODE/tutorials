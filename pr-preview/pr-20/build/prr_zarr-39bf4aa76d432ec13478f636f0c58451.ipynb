{
 "cells": [
  {
   "cell_type": "markdown",
   "id": "1f92ff5a",
   "metadata": {},
   "source": [
    "# ESA Project Results Repository: Generating STAC collections with zarr files\n",
    "\n",
    "This notebook shows how to generate a valid STAC collection, which is a requirement to upload research outcomes to the [ESA Project Results Repository (PRR)](https://eoresults.esa.int/). It focuses on generating metadata for a project with zarr data. The product has two zarr files, covering different regions, created using Sentinel 1 and Sentinel 2 data respectively.\n",
    "\n",
    "Check the [EarthCODE documentation](https://earthcode.esa.int/), and [PRR STAC introduction example](https://esa-earthcode.github.io/examples/prr-stac-introduction) for a more general introduction to STAC and the ESA PRR.\n",
    "\n",
    "\n",
    "The code below demonstrates how to perform the necessary steps using real data from the ESA project **Yield Prediction and Estimation from Earth Observation (YIPEEO)**. The focus of YIPEEO is to improve field-scale crop yield forecasts through the usage of high-resolution remote sensing data and cutting edge scientific methods.\n",
    "\n",
    "\n",
    "🔗 Check the project website: [Yield Prediction and Estimation from Earth Observation (YIPEEO) – Website](https://yipeeo.czechglobe.cz/)\n",
    "\n",
    "\n",
    "#### Acknowledgment  \n",
    "We gratefully acknowledge the **Yield Prediction and Estimation from Earth Observation (YIPEEO) team** for providing access to the data used in this example, as well as support in creating it."
   ]
  },
  {
   "cell_type": "code",
   "execution_count": null,
   "id": "3333ec9c",
   "metadata": {},
   "outputs": [],
   "source": [
    "# import libraries\n",
    "import xarray as xr\n",
    "from pystac import Item, Collection\n",
    "import pystac\n",
    "from datetime import datetime\n",
    "from shapely.geometry import box, mapping\n",
    "from xstac import xarray_to_stac\n",
    "import glob\n",
    "import json\n",
    "import shapely\n",
    "import numpy as np\n",
    "import geopandas as gpd\n",
    "import pandas as pd"
   ]
  },
  {
   "cell_type": "markdown",
   "id": "6161e2c3",
   "metadata": {},
   "source": [
    "## 1. Generate the parent collection\n",
    "\n",
    "The root STAC Collection provides a general description of all project outputs which will be stored on the PRR.\n",
    "The PRR STAC Collection template enforces some required fields that you need to provide in order to build its valid description. Most of these metadata fields should already be available and can be extracted from your data.\n"
   ]
  },
  {
   "cell_type": "code",
   "execution_count": null,
   "id": "869e46f3",
   "metadata": {},
   "outputs": [],
   "source": [
    "# create the parent collection\n",
    "collectionid = \"yipeeo-cropyields\"\n",
    "\n",
    "\n",
    "collection = Collection.from_dict(\n",
    "    \n",
    "{\n",
    "  \"type\": \"Collection\",\n",
    "  \"id\": collectionid,\n",
    "  \"stac_version\": \"1.1.0\",\n",
    "  \"title\": \"Yield Prediction and Estimation features from Sentinel1 and Sentinel2 data\",\n",
    "  \"description\": \"This dataset contains the processed Sentinel 1 and Sentinel 2 features used for yield rediction  in the Yield Prediction and Estimation from Earth Observation (YIPEEO) project. Sentinel-2 L2A collection is used to compute a set of features based on the provided bands as well as various vegetation indices. Sentinel-1 data for the years 2016-2023 was pre-processed by TUW RS on the Vienna Scientific Cluster using the software SNAP8 and software packages developed by the TUW RS group.\",\n",
    "  \"extent\": {\n",
    "    \"spatial\": {\n",
    "      \"bbox\": [\n",
    "        [\n",
    "          4.844270319251073,\n",
    "          49.040729923617775,\n",
    "          31.01967739451807,\n",
    "          52.869947524440924\n",
    "        ]\n",
    "      ]\n",
    "    },\n",
    "    \"temporal\": {\n",
    "      \"interval\": [\n",
    "        [\n",
    "          \"2016-01-01T00:00:00Z\",\n",
    "          \"2022-12-31T00:00:00Z\"\n",
    "        ]\n",
    "      ]\n",
    "    }\n",
    "  },\n",
    "  \"license\": \"various\",\n",
    "  \"links\": []\n",
    "\n",
    "}\n",
    "\n",
    ")\n",
    "\n",
    "collection # visualise the metadata of your collection "
   ]
  },
  {
   "cell_type": "markdown",
   "id": "2ab07efc",
   "metadata": {},
   "source": [
    "## 2. Create STAC Items and STAC Assets from original dataset \n",
    "\n",
    "The second step is to describe the different files as STAC Items and Assets. Take your time to decide how your data should be categorised to improve usability of the data, and ensure intuitive navigation through different items in the collections. There are multiple strategies for doing this and this tutorial demonstrate one of the possible ways of doing that. Examples of how other ESA projects are doing this are available in the [EarthCODE documentation](https://esa-earthcode.github.io/examples/prr-stac-introduction) .\n",
    "\n",
    "### 2.1 Add the Sentinel 1 features to a STAC Item"
   ]
  },
  {
   "cell_type": "code",
   "execution_count": null,
   "id": "b9508cce",
   "metadata": {},
   "outputs": [],
   "source": [
    "sentinel1_url = 'https://objectstore.eodc.eu:2222/68e13833a1624f43ba2cac01376a18af:ASP_ZARR/S1_out.zarr'\n",
    "ds = xr.open_zarr(sentinel1_url)\n",
    "ds"
   ]
  },
  {
   "cell_type": "code",
   "execution_count": null,
   "id": "c5156e54",
   "metadata": {},
   "outputs": [],
   "source": [
    "bbox = (\n",
    "    float(ds.min_lon.min().values), \n",
    "    float(ds.min_lat.min().values), \n",
    "    float(ds.max_lon.max().values), \n",
    "    float(ds.max_lat.max().values)\n",
    ")\n",
    "geometry = json.loads(json.dumps(shapely.box(*bbox).__geo_interface__))"
   ]
  },
  {
   "cell_type": "code",
   "execution_count": null,
   "id": "ee61a0f7",
   "metadata": {},
   "outputs": [],
   "source": [
    "\n",
    "template = {\n",
    "    \"id\": f\"{collectionid}-sentinel1-features\",\n",
    "    \"type\": \"Feature\",\n",
    "    \"stac_version\": \"1.0.0\",\n",
    "    \"properties\": {\n",
    "        \"title\": \"Sentinel-1 Features\",\n",
    "        \"description\": 'Sentinel 1 features for crop yield prediction and estimatation from 2015 to 2022. The processing workflow consists of the following steps:\\n1. Apply precise orbit data\\n2. Border-noise removal\\n3. Radiometric calibration\\n4. Radiometric terrain-flattening\\n5. Range-Doppler terrain correction\\nFor steps 4. and 5. the 30 m Copernicus Digital Elevation Model (DEM) was used. To extract time series on field level from the pre-processed Sentinel-1 data, several further processing steps were performed to mitigate the impact of the viewing geometry and undesired objects within or near the fields. In a first step, an incidence angle normalization to 40\\u00b0 was performed. Afterwards, all pixels below a standard deviation of 5dB within one year were filtered out as they are typically stemming from radar shadow pixels or are no crop pixels. Finally, the cross-ratio was calculated by subtracting VV and VH polarized backscatter. ',\n",
    "        \"start_datetime\": pd.to_datetime(ds.time.min().values).strftime(\"%Y-%m-%dT%H:%M:%SZ\"),\n",
    "        \"end_datetime\": pd.to_datetime(ds.time.max().values).strftime(\"%Y-%m-%dT%H:%M:%SZ\"),\n",
    "        \"license\": \"CC-BY-4.0\",\n",
    "        \"platform\": \"sentinel-1\",\n",
    "        \"instruments\": [\"c-sar\"],\n",
    "        \"created\": datetime.utcnow().isoformat() + \"Z\"\n",
    "    },\n",
    "    \"geometry\": geometry,\n",
    "    \"bbox\": bbox,\n",
    "    \"assets\": {\n",
    "        \"data\": {\n",
    "            \"href\": \"f'/d/{collectionid}/S1_out.zarr\",  # or local path\n",
    "            \"type\": \"application/vnd+zarr\",\n",
    "            \"roles\": [\"data\"],\n",
    "            \"title\": \"Zarr Store of Sentinel1 Field Stats\"\n",
    "        }\n",
    "    }\n",
    "}\n",
    "# 3. Generate the STAC Item\n",
    "sentinel1_item = xarray_to_stac(\n",
    "    ds,\n",
    "    template,\n",
    "    temporal_dimension=\"time\",\n",
    "    x_dimension=False,\n",
    "    y_dimension=False\n",
    ")\n",
    "\n",
    "sentinel1_item.validate()\n",
    "sentinel1_item"
   ]
  },
  {
   "cell_type": "markdown",
   "id": "34ffca2e",
   "metadata": {},
   "source": [
    "### 2.2 Add the sentinel 2 features"
   ]
  },
  {
   "cell_type": "code",
   "execution_count": null,
   "id": "f0c05173",
   "metadata": {},
   "outputs": [],
   "source": [
    "sentinel2_url = 'https://objectstore.eodc.eu:2222/68e13833a1624f43ba2cac01376a18af:ASP_ZARR/S2_out.zarr'\n",
    "ds = xr.open_dataset(sentinel2_url, engine='zarr')\n",
    "ds"
   ]
  },
  {
   "cell_type": "code",
   "execution_count": null,
   "id": "97f1a6ac",
   "metadata": {},
   "outputs": [],
   "source": [
    "bbox = (\n",
    "    float(ds.min_lon.min().values), \n",
    "    float(ds.min_lat.min().values), \n",
    "    float(ds.max_lon.max().values), \n",
    "    float(ds.max_lat.max().values)\n",
    ")\n",
    "geometry = json.loads(json.dumps(shapely.box(*bbox).__geo_interface__))"
   ]
  },
  {
   "cell_type": "code",
   "execution_count": null,
   "id": "1619626e",
   "metadata": {},
   "outputs": [],
   "source": [
    "\n",
    "template = {\n",
    "    \"id\": f\"{collectionid}-sentinel2-features\",\n",
    "    \"type\": \"Feature\",\n",
    "    \"stac_version\": \"1.0.0\",\n",
    "    \"properties\": {\n",
    "        \"title\": \"Sentinel-2 Features\",\n",
    "        \"description\": 'Sentinel 2 features based on the provided bands as well as various vegetation indices. The Sentinel-2 L2A data cube is dynamically created by utilising the STAC API. The datacube is pre-filter with scenes of a cloud cover less than 80%. The following features are extracted per field and timestamp: Band Medians and Standard Deviations: B02, B03, B04, B05, B06, B07, B08, B8A, B11, B12; Vegetation indices based on median bands of NDVI, EVI, NDWI, NMDI. An outlier removal was added on a field scale level utilising the SCL band and outlier removal based on 2 x inter quartile range (IQR).',\n",
    "        \"start_datetime\": pd.to_datetime(ds.time.min().values).strftime(\"%Y-%m-%dT%H:%M:%SZ\"),\n",
    "        \"end_datetime\": pd.to_datetime(ds.time.max().values).strftime(\"%Y-%m-%dT%H:%M:%SZ\"),\n",
    "        \"license\": \"CC-BY-4.0\",\n",
    "        \"platform\": \"sentinel-2\",\n",
    "        \"instruments\": [\"msi\"],\n",
    "        \"created\": datetime.utcnow().isoformat() + \"Z\"\n",
    "    },\n",
    "    \"geometry\": geometry,\n",
    "    \"bbox\": bbox,\n",
    "    \"assets\": {\n",
    "        \"data\": {\n",
    "            \"href\": \"f'/d/{collectionid}/S2_out.zarr\",  # or local path\n",
    "            \"type\": \"application/vnd+zarr\",\n",
    "            \"roles\": [\"data\"],\n",
    "            \"title\": \"Zarr Store of Sentinel2 Field Stats\"\n",
    "        }\n",
    "    }\n",
    "}\n",
    "# 3. Generate the STAC Item\n",
    "sentinel2_item = xarray_to_stac(\n",
    "    ds,\n",
    "    template,\n",
    "    temporal_dimension=\"time\",\n",
    "    x_dimension=False,\n",
    "    y_dimension=False\n",
    ")\n",
    "sentinel2_item.validate()\n",
    "sentinel2_item"
   ]
  },
  {
   "cell_type": "markdown",
   "id": "33d4ffee",
   "metadata": {},
   "source": [
    "## 3. Add the Items to the collection and Save the metadata as a self-contained collection"
   ]
  },
  {
   "cell_type": "code",
   "execution_count": null,
   "id": "e349eba0",
   "metadata": {},
   "outputs": [],
   "source": [
    "collection.add_items([sentinel1_item, sentinel2_item])"
   ]
  },
  {
   "cell_type": "code",
   "execution_count": null,
   "id": "52756c30",
   "metadata": {},
   "outputs": [],
   "source": [
    "# save the full self-contained collection\n",
    "collection.normalize_and_save(\n",
    "    root_href='../../data/yippeo_collection/',\n",
    "    catalog_type=pystac.CatalogType.SELF_CONTAINED\n",
    ")"
   ]
  },
  {
   "cell_type": "code",
   "execution_count": null,
   "id": "4a19d066",
   "metadata": {},
   "outputs": [],
   "source": [
    "collection"
   ]
  }
 ],
 "metadata": {
  "kernelspec": {
   "display_name": "pangeo",
   "language": "python",
   "name": "python3"
  },
  "language_info": {
   "codemirror_mode": {
    "name": "ipython",
    "version": 3
   },
   "file_extension": ".py",
   "mimetype": "text/x-python",
   "name": "python",
   "nbconvert_exporter": "python",
   "pygments_lexer": "ipython3",
   "version": "3.13.3"
  }
 },
 "nbformat": 4,
 "nbformat_minor": 5
}
