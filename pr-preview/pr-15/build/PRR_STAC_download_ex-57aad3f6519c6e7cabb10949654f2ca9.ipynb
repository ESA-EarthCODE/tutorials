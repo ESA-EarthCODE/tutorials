{
 "cells": [
  {
   "cell_type": "markdown",
   "id": "13408f04-ac61-4d5a-8711-28367f0cc50d",
   "metadata": {},
   "source": [
    "# ESA Project Results Repository (PRR) Data Access and Collections Preview"
   ]
  },
  {
   "cell_type": "markdown",
   "id": "2ecaefdc-773f-44f2-84f0-0d73f291dc66",
   "metadata": {},
   "source": [
    "This notebook has been created to support the access to the users of EarthCODE and APEX, who would like to exploit available products and project results stored in the [ESA Project Results Repository (PRR)](https://eoresults.esa.int/). PRR provides access to data, workflows, experiments and documentation from ESA EOP-S Projects organised across Collections, accessible via [OGC Records](https://ogcapi.ogc.org/records) e S[TAC API](https://github.com/radiantearth/stac-api-spec).\n",
    "\n",
    "Each collection contains [STAC Items](https://github.com/radiantearth/stac-spec/blob/master/item-spec/item-spec.md), with their related assets stored within the PRR storage.\n",
    "\n",
    "Scientists/commercial companies can access the PRR via the [EarthCODE](https://earthcode.esa.int/) and [APEx](https://esa-apex.github.io/apex_documentation/) projects.\n",
    "\n",
    "Use following notebook cells to preview the content of the ESA PRR and request the download of selected products. "
   ]
  },
  {
   "cell_type": "markdown",
   "id": "522ba326",
   "metadata": {},
   "source": [
    "### Loading Libraries and set up logging level"
   ]
  },
  {
   "cell_type": "code",
   "execution_count": null,
   "id": "8defa779",
   "metadata": {
    "tags": []
   },
   "outputs": [],
   "source": [
    "import os\n",
    "import logging\n",
    "import pprint\n",
    "import shutil\n",
    "from urllib.parse import urljoin\n",
    "from urllib.request import urlretrieve\n",
    "\n",
    "#Make sure you have installed pystac_client before running this\n",
    "from pystac_client import Client\n",
    "\n",
    "# set pystac_client logger to DEBUG to see API calls\n",
    "logging.basicConfig()\n",
    "logger = logging.getLogger(\"pystac_client\")\n",
    "logger.setLevel(logging.DEBUG)\n"
   ]
  },
  {
   "cell_type": "markdown",
   "id": "0cb5268b",
   "metadata": {},
   "source": [
    "### Connect to ESA PRR Catalog and display the list of collections available"
   ]
  },
  {
   "cell_type": "code",
   "execution_count": null,
   "id": "b2ecfa12",
   "metadata": {
    "tags": []
   },
   "outputs": [],
   "source": [
    "# URL of the STAC Catalog to query\n",
    "catalog_url = \"https://eoresults.esa.int/stac\"\n",
    "\n",
    "# custom headers\n",
    "headers = []\n",
    "\n",
    "cat = Client.open(catalog_url, headers=headers)\n",
    "cat # display the basic informaiton about PRR Catalog in STAC Format"
   ]
  },
  {
   "cell_type": "markdown",
   "id": "0438c280-1c01-472e-80d3-802ef508b32b",
   "metadata": {},
   "source": [
    "<br>\n",
    "\n",
    "Use the cell below to access entire **list of collections available in ESA PRR.**<br>\n",
    "\n"
   ]
  },
  {
   "cell_type": "code",
   "execution_count": null,
   "id": "6db1da45-bca2-421d-bf13-6e4790231554",
   "metadata": {
    "tags": []
   },
   "outputs": [],
   "source": [
    "collection_search = cat.collection_search(limit=150)\n",
    "print(f\"Total number of collections found in ESA PRR is {collection_search.matched()}\")"
   ]
  },
  {
   "cell_type": "code",
   "execution_count": null,
   "id": "17ac8cab-daa3-4cff-93a4-8935c1d737c0",
   "metadata": {
    "tags": []
   },
   "outputs": [],
   "source": [
    "# Display the name of the names of collection (collection-ids) to be used to filter the colleciton of interest\n",
    "for collection in collection_search.collections_as_dicts():\n",
    "    print(collection.get(\"id\", \"Unnamed Collection\"))"
   ]
  },
  {
   "cell_type": "markdown",
   "id": "17692c1e-9e7f-4f2e-b015-839309fb72c8",
   "metadata": {},
   "source": [
    "<br>\n",
    "<br>\n",
    "Alternatively, you can display the metadata of all STAC Collections available<br>\n"
   ]
  },
  {
   "cell_type": "code",
   "execution_count": null,
   "id": "5c1a9baf-ab62-43aa-b3ac-7545b7713e1c",
   "metadata": {
    "tags": []
   },
   "outputs": [],
   "source": [
    "# Or they can be displayed with their full metadata\n",
    "collection_search = cat.collection_search(\n",
    "    datetime='2023-04-02T00:00:00Z/2024-08-10T23:59:59Z',  #this is an additional filter to be added to filter the collections based on the date.\n",
    "    limit=10\n",
    ")\n",
    "print(f\"{collection_search.matched()} collections found\")\n",
    "print(\"PRR available Collections\\n\")\n",
    "\n",
    "for results in collection_search.collections_as_dicts():  # maybe this part should not display entire dic\n",
    "    pp = pprint.PrettyPrinter(depth=4)\n",
    "    pp.pprint(results)"
   ]
  },
  {
   "cell_type": "markdown",
   "id": "824264f1",
   "metadata": {
    "tags": []
   },
   "source": [
    "### Open Sentinel-3 AMPLI Ice Sheet Elevation collection"
   ]
  },
  {
   "cell_type": "markdown",
   "id": "90b7aaef-d656-4398-b642-49ca9aad3acc",
   "metadata": {},
   "source": [
    "To access specific collection, we will use the *collection id* from the cell above. Type `sentinel3-ampli-ice-sheet-elevation` to connect to selected collection and display its metadata. "
   ]
  },
  {
   "cell_type": "code",
   "execution_count": null,
   "id": "f9543e09",
   "metadata": {
    "tags": []
   },
   "outputs": [],
   "source": [
    "collection = cat.get_collection(\"sentinel3-ampli-ice-sheet-elevation\") # place here the id of the selected collection\n",
    "#collection # or use simply json metadata to display the information \n",
    "print(\"PRR Sentinel-3 AMPLI Collection\\n\")\n",
    "pp = pprint.PrettyPrinter(depth=4)\n",
    "pp.pprint(collection.to_dict())"
   ]
  },
  {
   "cell_type": "code",
   "execution_count": null,
   "id": "eaa9f1f3-be46-4a3a-8454-42c43610b33b",
   "metadata": {
    "tags": []
   },
   "outputs": [],
   "source": [
    "#Or display it in the STAC file format to better visualise the attributes and properties \n",
    "collection"
   ]
  },
  {
   "cell_type": "markdown",
   "id": "b0a0e61d-27b2-405c-af2c-3d26ae450d96",
   "metadata": {},
   "source": [
    "<br>\n",
    "<br>\n",
    "\n",
    "From the cell below, we will retrieve and explore **queryable fields** from a **STAC API**, which allows us to understand what parameters we can use for filtering our searches.<br>\n"
   ]
  },
  {
   "cell_type": "code",
   "execution_count": null,
   "id": "7181ff09-5884-41d0-ade8-dd73e9f3ec58",
   "metadata": {
    "tags": []
   },
   "outputs": [],
   "source": [
    "queryable = collection.get_queryables()\n",
    "\n",
    "pp = pprint.PrettyPrinter(depth=4)\n",
    "pp.pprint(queryable)"
   ]
  },
  {
   "cell_type": "markdown",
   "id": "d1153415-6360-4a40-877c-2c7322581f6f",
   "metadata": {
    "tags": []
   },
   "source": [
    "### Display STAC Items from Sentinel-3 AMPLI Ice Sheet Elevation collection "
   ]
  },
  {
   "cell_type": "markdown",
   "id": "b1bf8c6a",
   "metadata": {},
   "source": [
    "By executing the cell below you will get the ids of items that can be found in the specific collection (requested above).<br>\n",
    "First five items from the list are printed out. "
   ]
  },
  {
   "cell_type": "code",
   "execution_count": null,
   "id": "ad0b4c7b",
   "metadata": {
    "tags": []
   },
   "outputs": [],
   "source": [
    "items = collection.get_items()\n",
    "\n",
    "# flush stdout so we can see the exact order that things happen\n",
    "def get_five_items(items):\n",
    "    for i, item in enumerate(items):\n",
    "        print(f\"{i}: {item}\", flush=True)\n",
    "        if i == 4:\n",
    "            return\n",
    "        \n",
    "print(\"First page\", flush=True)\n",
    "get_five_items(items)\n",
    "\n",
    "print(\"Second page\", flush=True)\n",
    "get_five_items(items)"
   ]
  },
  {
   "cell_type": "markdown",
   "id": "2a51b4c7",
   "metadata": {},
   "source": [
    "Now execute a **search with a set of parameters**. In this case it returns just one item because **we filter on one queryable parameter** `(id)`"
   ]
  },
  {
   "cell_type": "code",
   "execution_count": null,
   "id": "7fb8689e",
   "metadata": {
    "collapsed": true,
    "jupyter": {
     "outputs_hidden": true
    },
    "tags": []
   },
   "outputs": [],
   "source": [
    "#Search for items based on spatio-temporal properties\n",
    "\n",
    "# AOI entire world\n",
    "geom = {\n",
    "    \"type\": \"Polygon\",\n",
    "    \"coordinates\": [\n",
    "        [\n",
    "            [-180, -90],\n",
    "            [-180, 90],\n",
    "            [180 , 90],\n",
    "            [180, -90],\n",
    "            [-180, -90],\n",
    "        ]\n",
    "    ],\n",
    "}\n",
    "\n",
    "# limit sets the # of items per page so we can see multiple pages getting fetched\n",
    "#In this search we apply also filtering on ID that is one of the searchable parameters for the colletion\n",
    "search = cat.search(\n",
    "    max_items=7,\n",
    "    limit=5,\n",
    "    collections=\"sentinel3-ampli-ice-sheet-elevation\",        # specify collection id\n",
    "    intersects=geom,\n",
    "    query={\"id\": {\"eq\": \"sentinel-3a-antarctica-cycle107\"}},  # search for the specific Item in the collection \n",
    "    datetime=\"2023-04-02T00:00:00Z/2024-08-10T23:59:59Z\",     # specify the start and end date of the time frame to perform the search \n",
    ")\n",
    "\n",
    "items = list(search.items())\n",
    "\n",
    "print(len(items))\n",
    "\n",
    "pp = pprint.PrettyPrinter(depth=4)\n",
    "pp.pprint([i.to_dict() for i in items])"
   ]
  },
  {
   "cell_type": "markdown",
   "id": "15757ed2-f144-488c-bdcc-93a454fe8f98",
   "metadata": {
    "tags": []
   },
   "source": [
    "<br>\n",
    "<br>\n",
    "\n",
    "If you do not know the item id, search through available satellite instrument name, region, number of the cycle and the datetime range of the products of interest. <br><br>\n",
    "**You can specify them by filtering based on following possible values:** <br>\n",
    "* missions: `3a` or `3b`\n",
    "* regions: `anarctica` or `greenland`\n",
    "* cycle range: for sentinel-3a possible cycle range is from `005 to 112`; while sentinel-3b has range from `011-093`\n",
    "* datetime: specify the time frame of the products from the range between: `2016-06-01 00:00:00 UTC – 2024-05-09 00:00:00 UTC` <br>\n"
   ]
  },
  {
   "cell_type": "code",
   "execution_count": null,
   "id": "d311ba44-9051-4e8b-928f-9c37c74bb79f",
   "metadata": {
    "tags": []
   },
   "outputs": [],
   "source": [
    "#Search for items from specific mission and type of the instrument (based on the id) and the region as well as cycle number \n",
    "# Define your cycle range and mission types\n",
    "cycle_range = [f\"{i:03d}\" for i in range(90, 111)] #005 to 111   # for sentinel-3a possible cycle range is from 005 to 111; while s3b has range from 011-092\n",
    "missions = [\"3b\"]          # select the mission and sensor type from:\"sentinel-3a\" or \"sentinel-3b\"]  \n",
    "regions = [\"antarctica\"]              # specify the region from: \"antarctica\" or \"greenland\"\n",
    "\n",
    "# AOI entire world\n",
    "geom = {\n",
    "    \"type\": \"Polygon\",\n",
    "    \"coordinates\": [\n",
    "        [\n",
    "            [-180, -90],\n",
    "            [-180, 90],\n",
    "            [180 , 90],\n",
    "            [180, -90],\n",
    "            [-180, -90],\n",
    "        ]\n",
    "    ],\n",
    "}\n",
    "\n",
    "# limit sets the # of items per page so we can see multiple pages getting fetched\n",
    "#In this search we apply also filtering on ID that is one of the searchable parameters for the colletion\n",
    "search = cat.search(\n",
    "    max_items=7,\n",
    "    limit=5,\n",
    "    collections=\"sentinel3-ampli-ice-sheet-elevation\",\n",
    "    intersects=geom,  # search for the specific Item in the collection \n",
    "    datetime=\"2021-04-02T00:00:00Z/2024-08-10T23:59:59Z\",     # specify the start and end date of the time frame to perform the search which are: 2016-06-01 00:00:00 UTC – 2024-05-09 00:00:00 UTC\n",
    ")\n",
    "items = list(search.items())\n",
    "print(f\"Number of items found: {len(items)}\")\n",
    "print(items)\n",
    "\n",
    "pp = pprint.PrettyPrinter(depth=4)\n",
    "\n",
    "filtered = [\n",
    "    item for item in items\n",
    "    if any(m in item.id.lower()  for m in missions)\n",
    "    and any(r in item.id.lower()  for r in regions)\n",
    "    and any(f\"cycle{c}\" in item.id.lower() for c in cycle_range)\n",
    "]\n",
    "\n",
    "\n",
    "#for i, item in enumerate(filtered, 2):\n",
    "   # print(f\"{i}. {item.id} @ {item.datetime}\")\n",
    "\n",
    "## Print number of filtered items\n",
    "print(f\"Number of filtered items: {len(filtered)}\")\n",
    "for i, item in enumerate(filtered, 2):\n",
    "    print(f\"{i}. {item.id} @ {item.datetime}\")"
   ]
  },
  {
   "cell_type": "markdown",
   "id": "a4d6035b",
   "metadata": {},
   "source": [
    "## Download all assets from the selected item <br>\n",
    "Based on the selection done in the previous cell, download the products to the `downloads` folder in your workspace"
   ]
  },
  {
   "cell_type": "code",
   "execution_count": null,
   "id": "9b57bffd-ad05-451d-9eb4-e8c5abc3eb72",
   "metadata": {
    "tags": []
   },
   "outputs": [],
   "source": [
    "base_url = \"https://eoresults.esa.int\"\n",
    "\n",
    "item_to_be_downloaded = 3\n",
    "target = items[item_to_be_downloaded]\n",
    "\n",
    "output_dir = f\"downloads/{target.id}\"\n",
    "os.makedirs(output_dir, exist_ok=True)\n",
    "\n",
    "assets_total=len(target.assets.items())\n",
    "assets_current=0\n",
    "for asset_key, asset in target.assets.items():\n",
    "    filename = os.path.basename(asset.href)\n",
    "    full_href = urljoin(base_url, asset.href)\n",
    "    local_path = os.path.join(output_dir, filename)\n",
    "    assets_current+=1\n",
    "    print(f\"[{assets_current}/{assets_total}] Downloading {filename}...\")\n",
    "    try:\n",
    "        urlretrieve(full_href, local_path)\n",
    "    except Exception as e:\n",
    "        print(f\"Failed to download {full_href}. {e}\")\n"
   ]
  },
  {
   "cell_type": "markdown",
   "id": "4de12173-7b7c-4f0c-90f4-c2f93cb66159",
   "metadata": {},
   "source": [
    "## Download filtered items <br>\n",
    "Based on the selection done in the previous cell, download the products to the `downloads` folder in your workspace. You will download here the items which result from further filtering options (by mission type, cycle number, region etc.)"
   ]
  },
  {
   "cell_type": "code",
   "execution_count": null,
   "id": "21e508b5-b896-45ba-97e7-cfdf29b261a1",
   "metadata": {
    "collapsed": true,
    "jupyter": {
     "outputs_hidden": true
    },
    "tags": []
   },
   "outputs": [],
   "source": [
    "target = filtered[0] if len(filtered) > 0 else None\n",
    "\n",
    "output_dir = f\"downloads/{target.id}\"\n",
    "os.makedirs(output_dir, exist_ok=True)\n",
    "\n",
    "assets_total=len(target.assets.items())\n",
    "assets_current=0\n",
    "for asset_key, asset in target.assets.items():\n",
    "    filename = os.path.basename(asset.href)\n",
    "    full_href = urljoin(base_url, asset.href)\n",
    "    local_path = os.path.join(output_dir, filename)\n",
    "    assets_current+=1\n",
    "    print(f\"[{assets_current}/{assets_total}] Downloading {filename}...\")\n",
    "    try:\n",
    "        urlretrieve(full_href, local_path)\n",
    "    except Exception as e:\n",
    "        print(f\"Failed to download {full_href}. {e}\")     "
   ]
  },
  {
   "cell_type": "code",
   "execution_count": null,
   "id": "f7e21db4-6afb-48f3-8130-e2663ae98d1f",
   "metadata": {
    "tags": []
   },
   "outputs": [],
   "source": [
    "base_url = \"https://eoresults.esa.int\"\n",
    "for index, item in enumerate(filtered, 2):\n",
    "    output_dir = f\"filtered/{item.id}\"\n",
    "    os.makedirs(output_dir, exist_ok=True)\n",
    "\n",
    "    assets_total = len(item.assets.items())\n",
    "    assets_current = 0\n",
    "\n",
    "    for asset_key, asset in item.assets.items():\n",
    "        filename = os.path.basename(asset.href)\n",
    "        full_href = urljoin(base_url, asset.href)\n",
    "        local_path = os.path.join(output_dir, filename)\n",
    "\n",
    "        assets_current += 1\n",
    "        print(f\"[{index}] [{assets_current}/{assets_total}] Downloading {filename} for item {item.id}...\")\n",
    "\n",
    "        try:\n",
    "            urlretrieve(full_href, local_path)\n",
    "        except Exception as e:\n",
    "            print(f\"Failed to download {full_href}. {e}\")\n",
    "\n",
    "print(f\"Downloaded assets for {len(filtered)} items.\")"
   ]
  },
  {
   "cell_type": "markdown",
   "id": "34c7870f",
   "metadata": {},
   "source": [
    "## (Optional) Read some data to ensure all items are downloaded properly\n"
   ]
  },
  {
   "cell_type": "code",
   "execution_count": null,
   "id": "a868c6c9",
   "metadata": {},
   "outputs": [],
   "source": [
    "import xarray as xr\n",
    "import numpy as np\n",
    "\n",
    "# change this to a downloaded file\n",
    "example_filepath = f'./downloads/{target.id}/S3A_SR_2_TDP_LI_20240403T201315_20240403T201615_20250416T191921_0180_111_014______CNE_GRE_V001.nc'\n",
    "\n",
    "# Open selected product and check the values\n",
    "# Note: You can select another group of values to read : satellite_and_altimeter, or ESA_L2_processing\n",
    "ds = xr.open_dataset(example_filepath, group='AMPLI_processing')\n",
    "values = ds['elevation_radar_ampli'].values\n",
    "values[~np.isnan(values)]"
   ]
  },
  {
   "cell_type": "markdown",
   "id": "b23edcf7-b5f6-4d82-bbe3-87839ffd5e28",
   "metadata": {},
   "source": [
    "## (Optional) Create an archive of products downloaded "
   ]
  },
  {
   "cell_type": "markdown",
   "id": "289de21c-e98d-4113-9c24-79117841e222",
   "metadata": {},
   "source": [
    "Create an archive of the products downloaded to your workspace and save them in .zip format to make them compressed"
   ]
  },
  {
   "cell_type": "code",
   "execution_count": null,
   "id": "912e38df-65f2-46d4-be4e-7751dbe6837f",
   "metadata": {
    "tags": []
   },
   "outputs": [],
   "source": [
    "# Create an archive of downloaded products \n",
    "zip_path = shutil.make_archive(output_dir, 'zip', root_dir=output_dir)\n",
    "print(f\"Created ZIP archive: {zip_path}\")"
   ]
  }
 ],
 "metadata": {
  "kernelspec": {
   "display_name": "pangeo",
   "language": "python",
   "name": "python3"
  },
  "language_info": {
   "codemirror_mode": {
    "name": "ipython",
    "version": 3
   },
   "file_extension": ".py",
   "mimetype": "text/x-python",
   "name": "python",
   "nbconvert_exporter": "python",
   "pygments_lexer": "ipython3",
   "version": "3.13.3"
  }
 },
 "nbformat": 4,
 "nbformat_minor": 5
}
