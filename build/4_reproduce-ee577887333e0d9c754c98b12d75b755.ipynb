{
 "cells": [
  {
   "cell_type": "markdown",
   "id": "b4b431ad-669e-4d00-a207-2f5a0c0fce65",
   "metadata": {},
   "source": [
    "# Reproducing an openEO Experiment published to the EarthCODE Open Science Catalogue\n",
    "\n",
    "In this guide, we will use your newly published experiment from [previous tutorial](./3_publication.md) and reproduce it. This process will demonstrate how to leverage the openEO federation and EarthCODE tools to reproduce experiments, ensuring transparency and reproducibility in scientific research, reinforcing the principles of Open Science.\n",
    "\n",
    ":::{note}\n",
    "In this guide, we will use a link to a testing experiment from a GitHub repository. The links that we use point to the EarthCODE Open Science Catalogue GitHub repository. This link may not work in the future, as it is a test experiment. However, you can use the same steps to reproduce any experiments published to the EarthCODE Open Science Catalogue.\n",
    ":::"
   ]
  },
  {
   "cell_type": "code",
   "execution_count": 1,
   "id": "825912d3",
   "metadata": {},
   "outputs": [],
   "source": [
    "experiment_url = \"https://raw.githubusercontent.com/ESA-EarthCODE/open-science-catalog-metadata-testing/c9ad31fd63330818e7895faf10f5104d9a101c01/experiments/cdse_federation_-_variability_map_experiment/process_graph.json\""
   ]
  },
  {
   "cell_type": "code",
   "execution_count": 2,
   "id": "e6adc60e",
   "metadata": {},
   "outputs": [],
   "source": [
    "import rasterio\n",
    "import matplotlib.pyplot as plt\n",
    "\n",
    "def visualise_tif(path: str):\n",
    "    with rasterio.open(path) as src:\n",
    "        data = src.read(1)  # Read the first band\n",
    "        plt.figure(figsize=(10, 10))\n",
    "        plt.imshow(data, cmap='viridis')\n",
    "        plt.colorbar()\n",
    "        plt.show()"
   ]
  },
  {
   "cell_type": "markdown",
   "id": "c612d094",
   "metadata": {},
   "source": [
    "## Connection with CDSE openEO Federation\n",
    "\n",
    "The first step, before executing our published experiment in openEO, is to authenticate with an available openEO backend. In this example, we will use the CDSE openEO federation, which provides seamless access to both datasets and processing resources across multiple federated openEO backends."
   ]
  },
  {
   "cell_type": "code",
   "execution_count": 3,
   "id": "9bc7e894",
   "metadata": {},
   "outputs": [],
   "source": [
    "import openeo"
   ]
  },
  {
   "cell_type": "code",
   "execution_count": 4,
   "id": "b3c9f2a7",
   "metadata": {},
   "outputs": [
    {
     "name": "stdout",
     "output_type": "stream",
     "text": [
      "Authenticated using refresh token.\n"
     ]
    }
   ],
   "source": [
    "connection = openeo.connect(url=\"openeofed.dataspace.copernicus.eu\").authenticate_oidc()"
   ]
  },
  {
   "cell_type": "markdown",
   "id": "434be560",
   "metadata": {},
   "source": [
    "## Using the openEO client\n",
    "The first option to execute an existing experiment is through the openEO Python client. By using openEO's `datacube_from_json`, you can import the published experiment from the OSC into openEO."
   ]
  },
  {
   "cell_type": "code",
   "execution_count": 5,
   "id": "7753103f",
   "metadata": {},
   "outputs": [],
   "source": [
    "experiment = connection.datacube_from_json(experiment_url)"
   ]
  },
  {
   "cell_type": "code",
   "execution_count": 6,
   "id": "78e8d4c7",
   "metadata": {},
   "outputs": [
    {
     "name": "stderr",
     "output_type": "stream",
     "text": [
      "/Users/bramjanssen/projects/earthcode/examples/.venv/lib/python3.13/site-packages/IPython/core/display.py:636: UserWarning: JSON expects JSONable dict or list, not JSON strings\n",
      "  warnings.warn(\"JSON expects JSONable dict or list, not JSON strings\")\n"
     ]
    },
    {
     "data": {
      "application/json": {
       "process_graph": {
        "saveresult1": {
         "arguments": {
          "data": {
           "from_node": "variabilitymap1"
          },
          "format": "GTiff",
          "options": {}
         },
         "process_id": "save_result",
         "result": true
        },
        "variabilitymap1": {
         "arguments": {
          "date": "2025-05-01",
          "spatial_extent": {
           "features": [
            {
             "geometry": {
              "coordinates": [
               [
                [
                 5.170043941798298,
                 51.25050990858725
                ],
                [
                 5.171035037521989,
                 51.24865722468999
                ],
                [
                 5.178521828188366,
                 51.24674578027137
                ],
                [
                 5.179084341977159,
                 51.24984764553983
                ],
                [
                 5.170043941798298,
                 51.25050990858725
                ]
               ]
              ],
              "type": "Polygon"
             },
             "properties": {},
             "type": "Feature"
            }
           ],
           "type": "FeatureCollection"
          }
         },
         "namespace": "https://openeo.dataspace.copernicus.eu/openeo/1.1/processes/u:6391851f-9042-4108-8b2a-3dd2e8a9dd0b/variability_map",
         "process_id": "variability_map"
        }
       }
      },
      "text/plain": [
       "<IPython.core.display.JSON object>"
      ]
     },
     "execution_count": 6,
     "metadata": {
      "application/json": {
       "expanded": false,
       "root": "root"
      }
     },
     "output_type": "execute_result"
    }
   ],
   "source": [
    "from IPython.display import JSON\n",
    "\n",
    "JSON(experiment.to_json())"
   ]
  },
  {
   "cell_type": "code",
   "execution_count": 8,
   "id": "6e2b065d",
   "metadata": {},
   "outputs": [
    {
     "name": "stdout",
     "output_type": "stream",
     "text": [
      "0:00:00 Job 'cdse-j-250820073233473abb75de6395ae8af2': send 'start'\n",
      "0:00:38 Job 'cdse-j-250820073233473abb75de6395ae8af2': queued (progress 0%)\n",
      "0:00:44 Job 'cdse-j-250820073233473abb75de6395ae8af2': queued (progress 0%)\n",
      "0:00:50 Job 'cdse-j-250820073233473abb75de6395ae8af2': queued (progress 0%)\n",
      "0:00:58 Job 'cdse-j-250820073233473abb75de6395ae8af2': queued (progress 0%)\n",
      "0:01:18 Job 'cdse-j-250820073233473abb75de6395ae8af2': queued (progress 0%)\n",
      "0:01:34 Job 'cdse-j-250820073233473abb75de6395ae8af2': queued (progress 0%)\n",
      "0:01:49 Job 'cdse-j-250820073233473abb75de6395ae8af2': queued (progress 0%)\n",
      "0:02:09 Job 'cdse-j-250820073233473abb75de6395ae8af2': queued (progress 0%)\n",
      "0:02:33 Job 'cdse-j-250820073233473abb75de6395ae8af2': queued (progress 0%)\n",
      "0:03:04 Job 'cdse-j-250820073233473abb75de6395ae8af2': queued (progress 0%)\n",
      "0:03:51 Job 'cdse-j-250820073233473abb75de6395ae8af2': queued (progress 0%)\n",
      "0:04:39 Job 'cdse-j-250820073233473abb75de6395ae8af2': queued (progress 0%)\n",
      "0:05:37 Job 'cdse-j-250820073233473abb75de6395ae8af2': running (progress N/A)\n",
      "0:06:38 Job 'cdse-j-250820073233473abb75de6395ae8af2': finished (progress 100%)\n"
     ]
    },
    {
     "data": {
      "text/html": [
       "\n",
       "    <script>\n",
       "    if (!window.customElements || !window.customElements.get('openeo-job')) {\n",
       "        var el = document.createElement('script');\n",
       "        el.src = \"https://cdn.jsdelivr.net/npm/@openeo/vue-components@2/assets/openeo.min.js\";\n",
       "        document.head.appendChild(el);\n",
       "\n",
       "        var font = document.createElement('font');\n",
       "        font.as = \"font\";\n",
       "        font.type = \"font/woff2\";\n",
       "        font.crossOrigin = true;\n",
       "        font.href = \"https://use.fontawesome.com/releases/v5.13.0/webfonts/fa-solid-900.woff2\"\n",
       "        document.head.appendChild(font);\n",
       "    }\n",
       "    </script>\n",
       "    <openeo-job>\n",
       "        <script type=\"application/json\">{\"currency\": \"credits\", \"federation\": {\"cdse\": {\"description\": \"This openEO service runs on the [Copernicus Data Space Ecosystem](https://dataspace.copernicus.eu/)\\nand offers data access and processing on full archives of Copernicus data, such as the Sentinels.\", \"last_status_check\": \"2025-08-20T07:27:45Z\", \"status\": \"online\", \"title\": \"Copernicus Data Space Ecosystem openEO API\", \"url\": \"https://openeo.dataspace.copernicus.eu/openeo/1.1/\"}, \"terrascope\": {\"description\": \"OpenEO API to the Terrascope/VITO Remote Sensing product catalog and processing services (using GeoPySpark driver).\", \"last_status_check\": \"2025-08-20T07:27:45Z\", \"status\": \"online\", \"title\": \"VITO Remote Sensing openEO API\", \"url\": \"https://openeo-cdse.vito.be/openeo/1.1/\"}}, \"job\": {\"costs\": 4, \"created\": \"2025-08-20T07:32:33Z\", \"id\": \"cdse-j-250820073233473abb75de6395ae8af2\", \"process\": {\"process_graph\": {\"saveresult1\": {\"arguments\": {\"data\": {\"from_node\": \"variabilitymap1\"}, \"format\": \"GTiff\", \"options\": {}}, \"process_id\": \"save_result\", \"result\": true}, \"variabilitymap1\": {\"arguments\": {\"date\": \"2025-05-01\", \"spatial_extent\": {\"features\": [{\"geometry\": {\"coordinates\": [[[5.170043941798298, 51.25050990858725], [5.171035037521989, 51.24865722468999], [5.178521828188366, 51.24674578027137], [5.179084341977159, 51.24984764553983], [5.170043941798298, 51.25050990858725]]], \"type\": \"Polygon\"}, \"properties\": {}, \"type\": \"Feature\"}], \"type\": \"FeatureCollection\"}}, \"namespace\": \"https://openeo.dataspace.copernicus.eu/openeo/1.1/processes/u:6391851f-9042-4108-8b2a-3dd2e8a9dd0b/variability_map\", \"process_id\": \"variability_map\"}}}, \"progress\": 100, \"status\": \"finished\", \"title\": \"CDSE Federation - Variability Map Experiment (reproduce)\", \"updated\": \"2025-08-20T07:38:10Z\", \"usage\": {\"cpu\": {\"unit\": \"cpu-seconds\", \"value\": 94}, \"duration\": {\"unit\": \"seconds\", \"value\": 318}, \"input_pixel\": {\"unit\": \"mega-pixel\", \"value\": 0.296875}, \"max_executor_memory\": {\"unit\": \"gb\", \"value\": 1.0698013305664062}, \"memory\": {\"unit\": \"mb-seconds\", \"value\": 999532}, \"network_received\": {\"unit\": \"b\", \"value\": 64791869}}}}</script>\n",
       "    </openeo-job>\n",
       "    "
      ],
      "text/plain": [
       "<BatchJob job_id='cdse-j-250820073233473abb75de6395ae8af2'>"
      ]
     },
     "execution_count": 8,
     "metadata": {},
     "output_type": "execute_result"
    }
   ],
   "source": [
    "path =  \"./files/varmap_experiment_reproduce.tiff\"\n",
    "experiment.execute_batch(\n",
    "    path,\n",
    "    title=\"CDSE Federation - Variability Map Experiment (reproduce)\"\n",
    ")"
   ]
  },
  {
   "cell_type": "code",
   "execution_count": 9,
   "id": "68c0d507",
   "metadata": {},
   "outputs": [
    {
     "data": {
      "image/png": "[encoded data removed]",
      "text/plain": [
       "<Figure size 1000x1000 with 2 Axes>"
      ]
     },
     "metadata": {},
     "output_type": "display_data"
    }
   ],
   "source": [
    "visualise_tif(path)"
   ]
  },
  {
   "cell_type": "markdown",
   "id": "10ffc40f",
   "metadata": {},
   "source": [
    "In this next step we will verify if the output products of the original experiment, created in the [previous tutorial](./2_experiment.ipynb) are the same as the output products of the reproduced experiment. This is done by comparing the output products of the original experiment with the output products of the reproduced experiment."
   ]
  },
  {
   "cell_type": "code",
   "execution_count": 11,
   "id": "e314ef2f",
   "metadata": {},
   "outputs": [
    {
     "name": "stdout",
     "output_type": "stream",
     "text": [
      "Are the GeoTIFF files equal? True\n"
     ]
    }
   ],
   "source": [
    "import numpy as np\n",
    "\n",
    "\n",
    "def compare_geotiff(file1: str, file2: str) -> bool:\n",
    "    with rasterio.open(file1) as src1, rasterio.open(file2) as src2:\n",
    "        # Check if dimensions match\n",
    "        if src1.width != src2.width or src1.height != src2.height:\n",
    "            return False\n",
    "        \n",
    "        # Check if coordinate reference systems match\n",
    "        if src1.crs != src2.crs:\n",
    "            return False\n",
    "        \n",
    "        # Check if transform properties match\n",
    "        if src1.transform != src2.transform:\n",
    "            return False\n",
    "        \n",
    "        # Compare pixel values\n",
    "        data1 = src1.read()\n",
    "        data2 = src2.read()\n",
    "        if not np.array_equal(data1, data2):\n",
    "            return False\n",
    "\n",
    "    return True\n",
    "\n",
    "# Call the function with the specified files\n",
    "are_equal = compare_geotiff(\"./files/varmap_experiment.tiff\", \"./files/varmap_experiment_reproduce.tiff\")\n",
    "print(f\"Are the GeoTIFF files equal? {are_equal}\")"
   ]
  },
  {
   "cell_type": "markdown",
   "id": "06a27f77",
   "metadata": {},
   "source": [
    "### Using the openEO Web Editor\n",
    "\n",
    "\n",
    "#### Using the experiment URL\n",
    "\n",
    "Alternatively, you can also open the experiment through the [openEO Web Editor](https://openeofed.dataspace.copernicus.eu) using the experiment URL. This can be done by clicking the **Import process from an external source** button located in the top navigation bar.\n",
    "\n",
    "![Reproducing Experiment - openEO Web Editor - Import](./images/reproduce_editor_1.png)\n",
    "\n",
    "Next, you can past the experiment URL into the window to fetch the experiment and open it in the editor.\n",
    "\n",
    "![Reproducing Experiment - openEO Web Editor - Import Form](./images/reproduce_editor_2.png)\n",
    "\n",
    "Finally, click the **Create Batch Job** button to initiate the execution of the experiment.\n",
    "\n",
    "![Reproducing Experiment - openEO Web Editor - Create Batch Job](./images/reproduce_editor_3.png)\n",
    "\n",
    "\n",
    "### Using the execution link from the published experiment\n",
    "\n",
    ":::{warning}\n",
    "This feature is still in development and is not yet fully integrated in the EarthCODE Open Science Catalogue. Therefore, the retrieval of the execution link requires you to access the experiment through GitHub. In future release, this link will be available directly from the EarthCODE Open Science Catalogue.\n",
    ":::\n",
    "\n",
    "Whenever an experiment or workflow is published to the EarthCODE Open Science Catalogue, an execution link is generated. This link can be used to execute the experiment or workflow directly in the openEO Web Editor. As the integration of this execution link in the EarthCODE OSC is still in development, for now you can access the execution link through the GitHub repository of the EarthCODE Open Science Catalogue. The execution link is available in the `links` field of the experiment metadata. For example: https://editor.openeo.org/?process=https://raw.githubusercontent.com/ESA-EarthCODE/open-science-catalog-metadata-testing/c9ad31fd63330818e7895faf10f5104d9a101c01/experiments/cdse_federation_-_variability_map_experiment/process_graph.json&server=https://openeofed.dataspace.copernicus.eu/openeo. \n",
    "\n",
    "![Reproducing Experiment - Execution Link - GitHub Record](./images/reproduce_link_1.png)\n",
    "\n",
    "Navigating to this link will open the experiment in the openEO Web Editor, allowing you to execute it directly.\n",
    "\n",
    "\n",
    "![Reproducing Experiment - Execution Link - openEO Web Editor](./images/reproduce_link_2.png)"
   ]
  },
  {
   "cell_type": "code",
   "execution_count": null,
   "id": "b3d84945",
   "metadata": {},
   "outputs": [],
   "source": []
  }
 ],
 "metadata": {
  "kernelspec": {
   "display_name": ".venv (3.13.2)",
   "language": "python",
   "name": "python3"
  },
  "language_info": {
   "codemirror_mode": {
    "name": "ipython",
    "version": 3
   },
   "file_extension": ".py",
   "mimetype": "text/x-python",
   "name": "python",
   "nbconvert_exporter": "python",
   "pygments_lexer": "ipython3",
   "version": "3.13.2"
  }
 },
 "nbformat": 4,
 "nbformat_minor": 5
}
